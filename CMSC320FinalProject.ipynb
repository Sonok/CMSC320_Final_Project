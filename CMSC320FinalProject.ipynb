{
 "cells": [
  {
   "attachments": {},
   "cell_type": "markdown",
   "metadata": {},
   "source": [
    "# Analysis of Network Traffic Patterns\n",
    "\n",
    "## Summer 2024 Data Science Project\n",
    "\n",
    "### Group Members:\n",
    "- Sonok Mahapatra\n",
    "- Kunal Shah\n",
    "- Ayush Jain\n",
    "- Rohan Chawla\n",
    "\n",
    "## 1. Introduction\n",
    "\n",
    "In this project, we aim to analyze network traffic data collected from a honeypot server hosted on AWS. The primary objective is to identify patterns and anomalies in the network traffic, which could indicate potential security threats or unusual activities. Understanding these patterns is crucial for enhancing network security measures and mitigating risks associated with cyber attacks. By employing data science techniques, we hope to uncover insights that can help in proactive threat detection and prevention.\n",
    "\n",
    "## 2. Data Curation\n",
    "\n",
    "### Data Source\n",
    "The dataset used in this project is derived from a honeypot server hosted on AWS. A honeypot is a security mechanism that creates a decoy to attract potential attackers and monitor their activities.\n",
    "\n",
    "### Data Preparation\n",
    "We will load the dataset, clean it, and transform it into a format suitable for analysis. This involves handling missing values, converting data types, and extracting relevant features.\n",
    "\n",
    "## 3. Exploratory Data Analysis (EDA)\n",
    "\n",
    "### Data Exploration\n",
    "We'll start with some basic exploratory data analysis to understand the dataset's structure and contents. This will include visualizing the distribution of key features, identifying any anomalies, and summarizing the main characteristics of the data.\n",
    "\n",
    "## 4. Primary Analysis\n",
    "\n",
    "### Machine Learning Techniques\n",
    "Based on our exploratory data analysis, we will select appropriate machine learning techniques to analyze the data. Given the nature of the dataset, we may use classification models to predict the type of attack or protocol used based on other features. We will split the data into training and testing sets, train the model, and evaluate its performance.\n",
    "\n",
    "## 5. Visualization\n",
    "\n",
    "### Results Visualization\n",
    "We will create visualizations to present the results of our analysis. This may include plotting the confusion matrix, visualizing the feature importance, and showing the distribution of predictions. These visualizations will help in understanding the performance of our model and the significance of different features.\n",
    "\n",
    "## 6. Insights and Conclusions\n",
    "\n",
    "### Key Findings\n",
    "We will summarize the main insights obtained from our analysis, such as common patterns in network traffic and significant predictors of attack types.\n",
    "\n",
    "### Model Performance\n",
    "We will discuss the performance of our machine learning models, including metrics like accuracy, precision, recall, and F1-score.\n",
    "\n",
    "### Implications\n",
    "We will explain the practical implications of our findings for network security and threat detection. \n",
    "\n",
    "### Limitations\n",
    "We will acknowledge any limitations in our dataset or analysis that might affect the generalizability of our results.\n",
    "\n",
    "### Future Research\n",
    "We will suggest potential areas for future research to build on our findings and further improve network security measures.\n"
   ]
  },
  {
   "cell_type": "code",
   "execution_count": 5,
   "metadata": {},
   "outputs": [
    {
     "ename": "ModuleNotFoundError",
     "evalue": "No module named 'pandas'",
     "output_type": "error",
     "traceback": [
      "\u001b[0;31m---------------------------------------------------------------------------\u001b[0m",
      "\u001b[0;31mModuleNotFoundError\u001b[0m                       Traceback (most recent call last)",
      "Cell \u001b[0;32mIn[5], line 3\u001b[0m\n\u001b[1;32m      1\u001b[0m \u001b[39m# Block of import and dependencies change as needed\u001b[39;00m\n\u001b[1;32m      2\u001b[0m \u001b[39m# Sonok is using python 3.8.12 but I don't think it should matter too much\u001b[39;00m\n\u001b[0;32m----> 3\u001b[0m \u001b[39mimport\u001b[39;00m \u001b[39mpandas\u001b[39;00m \u001b[39mas\u001b[39;00m \u001b[39mpd\u001b[39;00m\n\u001b[1;32m      4\u001b[0m \u001b[39mimport\u001b[39;00m \u001b[39mnumpy\u001b[39;00m \u001b[39mas\u001b[39;00m \u001b[39mnp\u001b[39;00m\n\u001b[1;32m      5\u001b[0m \u001b[39mimport\u001b[39;00m \u001b[39mmatplotlib\u001b[39;00m\u001b[39m.\u001b[39;00m\u001b[39mpyplot\u001b[39;00m \u001b[39mas\u001b[39;00m \u001b[39mplt\u001b[39;00m\n",
      "\u001b[0;31mModuleNotFoundError\u001b[0m: No module named 'pandas'"
     ]
    }
   ],
   "source": [
    "# Block of import and dependencies change as needed\n",
    "# Sonok is using python 3.8.12 but I don't think it should matter too much\n",
    "import pandas as pd\n",
    "import numpy as np\n",
    "import matplotlib.pyplot as plt\n",
    "import seaborn as sns # If this doesn't work in VScode terminal 'python -m pip install seaborn'"
   ]
  }
 ],
 "metadata": {
  "kernelspec": {
   "display_name": "Python 3",
   "language": "python",
   "name": "python3"
  },
  "language_info": {
   "codemirror_mode": {
    "name": "ipython",
    "version": 3
   },
   "file_extension": ".py",
   "mimetype": "text/x-python",
   "name": "python",
   "nbconvert_exporter": "python",
   "pygments_lexer": "ipython3",
   "version": "3.9.13"
  },
  "orig_nbformat": 4,
  "vscode": {
   "interpreter": {
    "hash": "aee8b7b246df8f9039afb4144a1f6fd8d2ca17a180786b69acc140d282b71a49"
   }
  }
 },
 "nbformat": 4,
 "nbformat_minor": 2
}
