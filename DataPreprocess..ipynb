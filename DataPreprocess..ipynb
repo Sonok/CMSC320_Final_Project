{
 "cells": [
  {
   "cell_type": "code",
   "execution_count": null,
   "metadata": {},
   "outputs": [],
   "source": [
    "Sonok_Path_For_Data = \"/Users/sonokmahapatra/Desktop/AWS_Honeypot_marx-geo.csv\"\n",
    "# This is just incase no need to run this code \n",
    "# This is done in VScode but you could upload and refactor code in \n",
    "# Google Colab or Juypter notebooks "
   ]
  },
  {
   "cell_type": "code",
   "execution_count": 2,
   "metadata": {},
   "outputs": [],
   "source": [
    "# Block of import and dependencies change as needed \n",
    "# Sonok is using python 3.8.12 but I don't think it should matter too much\n",
    "import pandas as pd"
   ]
  },
  {
   "cell_type": "code",
   "execution_count": 9,
   "metadata": {},
   "outputs": [
    {
     "data": {
      "text/html": [
       "<div>\n",
       "<style scoped>\n",
       "    .dataframe tbody tr th:only-of-type {\n",
       "        vertical-align: middle;\n",
       "    }\n",
       "\n",
       "    .dataframe tbody tr th {\n",
       "        vertical-align: top;\n",
       "    }\n",
       "\n",
       "    .dataframe thead th {\n",
       "        text-align: right;\n",
       "    }\n",
       "</style>\n",
       "<table border=\"1\" class=\"dataframe\">\n",
       "  <thead>\n",
       "    <tr style=\"text-align: right;\">\n",
       "      <th></th>\n",
       "      <th>datetime</th>\n",
       "      <th>host</th>\n",
       "      <th>src</th>\n",
       "      <th>proto</th>\n",
       "      <th>type</th>\n",
       "      <th>spt</th>\n",
       "      <th>dpt</th>\n",
       "      <th>srcstr</th>\n",
       "      <th>cc</th>\n",
       "      <th>country</th>\n",
       "      <th>locale</th>\n",
       "      <th>localeabbr</th>\n",
       "      <th>postalcode</th>\n",
       "      <th>latitude</th>\n",
       "      <th>longitude</th>\n",
       "      <th>Unnamed: 15</th>\n",
       "    </tr>\n",
       "  </thead>\n",
       "  <tbody>\n",
       "    <tr>\n",
       "      <th>0</th>\n",
       "      <td>3/3/13 21:53</td>\n",
       "      <td>groucho-oregon</td>\n",
       "      <td>1032051418</td>\n",
       "      <td>TCP</td>\n",
       "      <td>NaN</td>\n",
       "      <td>6000.0</td>\n",
       "      <td>1433.0</td>\n",
       "      <td>61.131.218.218</td>\n",
       "      <td>CN</td>\n",
       "      <td>China</td>\n",
       "      <td>Jiangxi Sheng</td>\n",
       "      <td>36</td>\n",
       "      <td>NaN</td>\n",
       "      <td>28.5500</td>\n",
       "      <td>115.9333</td>\n",
       "      <td>NaN</td>\n",
       "    </tr>\n",
       "    <tr>\n",
       "      <th>1</th>\n",
       "      <td>3/3/13 21:57</td>\n",
       "      <td>groucho-oregon</td>\n",
       "      <td>1347834426</td>\n",
       "      <td>UDP</td>\n",
       "      <td>NaN</td>\n",
       "      <td>5270.0</td>\n",
       "      <td>5060.0</td>\n",
       "      <td>80.86.82.58</td>\n",
       "      <td>DE</td>\n",
       "      <td>Germany</td>\n",
       "      <td>NaN</td>\n",
       "      <td>NaN</td>\n",
       "      <td>NaN</td>\n",
       "      <td>51.0000</td>\n",
       "      <td>9.0000</td>\n",
       "      <td>NaN</td>\n",
       "    </tr>\n",
       "    <tr>\n",
       "      <th>2</th>\n",
       "      <td>3/3/13 21:58</td>\n",
       "      <td>groucho-oregon</td>\n",
       "      <td>2947856490</td>\n",
       "      <td>TCP</td>\n",
       "      <td>NaN</td>\n",
       "      <td>2489.0</td>\n",
       "      <td>1080.0</td>\n",
       "      <td>175.180.184.106</td>\n",
       "      <td>TW</td>\n",
       "      <td>Taiwan</td>\n",
       "      <td>Taipei</td>\n",
       "      <td>NaN</td>\n",
       "      <td>NaN</td>\n",
       "      <td>25.0392</td>\n",
       "      <td>121.5250</td>\n",
       "      <td>NaN</td>\n",
       "    </tr>\n",
       "    <tr>\n",
       "      <th>3</th>\n",
       "      <td>3/3/13 21:58</td>\n",
       "      <td>groucho-us-east</td>\n",
       "      <td>841842716</td>\n",
       "      <td>UDP</td>\n",
       "      <td>NaN</td>\n",
       "      <td>43235.0</td>\n",
       "      <td>1900.0</td>\n",
       "      <td>50.45.128.28</td>\n",
       "      <td>US</td>\n",
       "      <td>United States</td>\n",
       "      <td>Oregon</td>\n",
       "      <td>OR</td>\n",
       "      <td>97124</td>\n",
       "      <td>45.5848</td>\n",
       "      <td>-122.9117</td>\n",
       "      <td>NaN</td>\n",
       "    </tr>\n",
       "    <tr>\n",
       "      <th>4</th>\n",
       "      <td>3/3/13 21:58</td>\n",
       "      <td>groucho-singapore</td>\n",
       "      <td>3587648279</td>\n",
       "      <td>TCP</td>\n",
       "      <td>NaN</td>\n",
       "      <td>56577.0</td>\n",
       "      <td>80.0</td>\n",
       "      <td>213.215.43.23</td>\n",
       "      <td>FR</td>\n",
       "      <td>France</td>\n",
       "      <td>NaN</td>\n",
       "      <td>NaN</td>\n",
       "      <td>NaN</td>\n",
       "      <td>48.8600</td>\n",
       "      <td>2.3500</td>\n",
       "      <td>NaN</td>\n",
       "    </tr>\n",
       "  </tbody>\n",
       "</table>\n",
       "</div>"
      ],
      "text/plain": [
       "       datetime               host         src proto  type      spt     dpt  \\\n",
       "0  3/3/13 21:53     groucho-oregon  1032051418   TCP   NaN   6000.0  1433.0   \n",
       "1  3/3/13 21:57     groucho-oregon  1347834426   UDP   NaN   5270.0  5060.0   \n",
       "2  3/3/13 21:58     groucho-oregon  2947856490   TCP   NaN   2489.0  1080.0   \n",
       "3  3/3/13 21:58    groucho-us-east   841842716   UDP   NaN  43235.0  1900.0   \n",
       "4  3/3/13 21:58  groucho-singapore  3587648279   TCP   NaN  56577.0    80.0   \n",
       "\n",
       "            srcstr  cc        country         locale localeabbr postalcode  \\\n",
       "0   61.131.218.218  CN          China  Jiangxi Sheng         36        NaN   \n",
       "1      80.86.82.58  DE        Germany            NaN        NaN        NaN   \n",
       "2  175.180.184.106  TW         Taiwan         Taipei        NaN        NaN   \n",
       "3     50.45.128.28  US  United States         Oregon         OR      97124   \n",
       "4    213.215.43.23  FR         France            NaN        NaN        NaN   \n",
       "\n",
       "   latitude  longitude  Unnamed: 15  \n",
       "0   28.5500   115.9333          NaN  \n",
       "1   51.0000     9.0000          NaN  \n",
       "2   25.0392   121.5250          NaN  \n",
       "3   45.5848  -122.9117          NaN  \n",
       "4   48.8600     2.3500          NaN  "
      ]
     },
     "execution_count": 9,
     "metadata": {},
     "output_type": "execute_result"
    }
   ],
   "source": [
    "# a) First import \n",
    "\n",
    "# Load the CSV file\n",
    "df = pd.read_csv('AWS_Honeypot_marx-geo.csv')\n",
    "\n",
    "# Display the first few rows of the dataframe\n",
    "df.head()\n"
   ]
  },
  {
   "cell_type": "code",
   "execution_count": 15,
   "metadata": {},
   "outputs": [
    {
     "name": "stdout",
     "output_type": "stream",
     "text": [
      "Index(['datetime', 'host', 'src', 'proto', 'type', 'spt', 'dpt', 'srcstr',\n",
      "       'cc', 'country', 'locale', 'localeabbr', 'postalcode', 'latitude',\n",
      "       'longitude', 'Unnamed: 15'],\n",
      "      dtype='object')\n",
      "The number of cyber attacks 451581 and the number of features we have per attack anaylsis 16\n",
      "The portion of rows in [Unnamed: 15] column that are NaNs 0.999816201301649\n"
     ]
    }
   ],
   "source": [
    "print(df.columns)\n",
    "r, c = df.shape\n",
    "print(f'The number of cyber attacks {r} and the number of features we have per attack anaylsis {c}')\n",
    "\n",
    "num_nans_in_unnamed = df['Unnamed: 15'].isna().sum()\n",
    "total_values_in_unnamed = len(df['Unnamed: 15'])\n",
    "\n",
    "print(f'The portion of rows in [Unnamed: 15] column that are NaNs {num_nans_in_unnamed / total_values_in_unnamed}')\n",
    "# Might be best to drop this column "
   ]
  },
  {
   "cell_type": "code",
   "execution_count": 16,
   "metadata": {},
   "outputs": [
    {
     "name": "stderr",
     "output_type": "stream",
     "text": [
      "/var/folders/nt/5983c1hx7dj3p1sndw5n8jc80000gn/T/ipykernel_7459/1202936655.py:4: UserWarning: Could not infer format, so each element will be parsed individually, falling back to `dateutil`. To ensure parsing is consistent and as-expected, please specify a format.\n",
      "  df['datetime'] = pd.to_datetime(df['datetime'])\n"
     ]
    }
   ],
   "source": [
    "# (b) Parse: Convert strings to appropriate data types where needed\n",
    "\n",
    "# Convert datetime column to pandas datetime\n",
    "df['datetime'] = pd.to_datetime(df['datetime'])\n",
    "\n",
    "# Convert integer-like columns from float to int\n",
    "df['spt'] = df['spt'].astype('Int64')\n",
    "df['dpt'] = df['dpt'].astype('Int64')\n",
    "df['src'] = df['src'].astype('Int64')\n",
    "\n",
    "df = df.drop(columns=['Unnamed: 15'])"
   ]
  }
 ],
 "metadata": {
  "kernelspec": {
   "display_name": "Python 3",
   "language": "python",
   "name": "python3"
  },
  "language_info": {
   "codemirror_mode": {
    "name": "ipython",
    "version": 3
   },
   "file_extension": ".py",
   "mimetype": "text/x-python",
   "name": "python",
   "nbconvert_exporter": "python",
   "pygments_lexer": "ipython3",
   "version": "3.8.12"
  },
  "orig_nbformat": 4,
  "vscode": {
   "interpreter": {
    "hash": "d9d0825d77c255e5f889681b2b7992089463f50e53000bd0d73c3c00b02b281b"
   }
  }
 },
 "nbformat": 4,
 "nbformat_minor": 2
}
